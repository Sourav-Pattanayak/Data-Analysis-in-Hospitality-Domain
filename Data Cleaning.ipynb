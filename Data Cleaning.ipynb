{
 "cells": [
  {
   "cell_type": "code",
   "execution_count": 17,
   "id": "1fd8871e-dcb7-4e5f-9796-d75450f2d8c3",
   "metadata": {},
   "outputs": [],
   "source": [
    "import pandas as pd\n"
   ]
  },
  {
   "cell_type": "code",
   "execution_count": 4,
   "id": "17010732-6bbc-452f-aa80-fb17c37cd360",
   "metadata": {},
   "outputs": [],
   "source": [
    "#Uploading the FataFrames:\n",
    "\n",
    "df_bookings=pd.read_csv('D:\\\\21.CODEBASICS\\\\BOOTCAMP\\\\Python\\\\PyCharm-Learn Python\\\\1-CODEBASICS\\\\PYTHON-HOTEL DATA ANALYTICS PROJECT\\\\datasets\\\\fact_bookings.csv')\n",
    "df_hotels=pd.read_csv('D:\\\\21.CODEBASICS\\\\BOOTCAMP\\\\Python\\\\PyCharm-Learn Python\\\\1-CODEBASICS\\\\PYTHON-HOTEL DATA ANALYTICS PROJECT\\\\datasets\\\\dim_hotels.csv')\n",
    "df_rooms=pd.read_csv('D:\\\\21.CODEBASICS\\\\BOOTCAMP\\\\Python\\\\PyCharm-Learn Python\\\\1-CODEBASICS\\\\PYTHON-HOTEL DATA ANALYTICS PROJECT\\\\datasets\\\\dim_rooms.csv')\n",
    "df_aggregated_bookings=pd.read_csv('D:\\\\21.CODEBASICS\\\\BOOTCAMP\\\\Python\\\\PyCharm-Learn Python\\\\1-CODEBASICS\\\\PYTHON-HOTEL DATA ANALYTICS PROJECT\\\\datasets\\\\fact_aggregated_bookings.csv')\n"
   ]
  },
  {
   "cell_type": "code",
   "execution_count": 7,
   "id": "da9dfafc-6010-4eb5-9ac8-591ff0c567f6",
   "metadata": {},
   "outputs": [
    {
     "data": {
      "text/html": [
       "<div>\n",
       "<style scoped>\n",
       "    .dataframe tbody tr th:only-of-type {\n",
       "        vertical-align: middle;\n",
       "    }\n",
       "\n",
       "    .dataframe tbody tr th {\n",
       "        vertical-align: top;\n",
       "    }\n",
       "\n",
       "    .dataframe thead th {\n",
       "        text-align: right;\n",
       "    }\n",
       "</style>\n",
       "<table border=\"1\" class=\"dataframe\">\n",
       "  <thead>\n",
       "    <tr style=\"text-align: right;\">\n",
       "      <th></th>\n",
       "      <th>property_id</th>\n",
       "      <th>no_guests</th>\n",
       "      <th>ratings_given</th>\n",
       "      <th>revenue_generated</th>\n",
       "      <th>revenue_realized</th>\n",
       "    </tr>\n",
       "  </thead>\n",
       "  <tbody>\n",
       "    <tr>\n",
       "      <th>count</th>\n",
       "      <td>134590.000000</td>\n",
       "      <td>134587.000000</td>\n",
       "      <td>56683.000000</td>\n",
       "      <td>1.345900e+05</td>\n",
       "      <td>134590.000000</td>\n",
       "    </tr>\n",
       "    <tr>\n",
       "      <th>mean</th>\n",
       "      <td>18061.113493</td>\n",
       "      <td>2.036170</td>\n",
       "      <td>3.619004</td>\n",
       "      <td>1.537805e+04</td>\n",
       "      <td>12696.123256</td>\n",
       "    </tr>\n",
       "    <tr>\n",
       "      <th>std</th>\n",
       "      <td>1093.055847</td>\n",
       "      <td>1.034885</td>\n",
       "      <td>1.235009</td>\n",
       "      <td>9.303604e+04</td>\n",
       "      <td>6928.108124</td>\n",
       "    </tr>\n",
       "    <tr>\n",
       "      <th>min</th>\n",
       "      <td>16558.000000</td>\n",
       "      <td>-17.000000</td>\n",
       "      <td>1.000000</td>\n",
       "      <td>6.500000e+03</td>\n",
       "      <td>2600.000000</td>\n",
       "    </tr>\n",
       "    <tr>\n",
       "      <th>25%</th>\n",
       "      <td>17558.000000</td>\n",
       "      <td>1.000000</td>\n",
       "      <td>3.000000</td>\n",
       "      <td>9.900000e+03</td>\n",
       "      <td>7600.000000</td>\n",
       "    </tr>\n",
       "    <tr>\n",
       "      <th>50%</th>\n",
       "      <td>17564.000000</td>\n",
       "      <td>2.000000</td>\n",
       "      <td>4.000000</td>\n",
       "      <td>1.350000e+04</td>\n",
       "      <td>11700.000000</td>\n",
       "    </tr>\n",
       "    <tr>\n",
       "      <th>75%</th>\n",
       "      <td>18563.000000</td>\n",
       "      <td>2.000000</td>\n",
       "      <td>5.000000</td>\n",
       "      <td>1.800000e+04</td>\n",
       "      <td>15300.000000</td>\n",
       "    </tr>\n",
       "    <tr>\n",
       "      <th>max</th>\n",
       "      <td>19563.000000</td>\n",
       "      <td>6.000000</td>\n",
       "      <td>5.000000</td>\n",
       "      <td>2.856000e+07</td>\n",
       "      <td>45220.000000</td>\n",
       "    </tr>\n",
       "  </tbody>\n",
       "</table>\n",
       "</div>"
      ],
      "text/plain": [
       "         property_id      no_guests  ratings_given  revenue_generated  \\\n",
       "count  134590.000000  134587.000000   56683.000000       1.345900e+05   \n",
       "mean    18061.113493       2.036170       3.619004       1.537805e+04   \n",
       "std      1093.055847       1.034885       1.235009       9.303604e+04   \n",
       "min     16558.000000     -17.000000       1.000000       6.500000e+03   \n",
       "25%     17558.000000       1.000000       3.000000       9.900000e+03   \n",
       "50%     17564.000000       2.000000       4.000000       1.350000e+04   \n",
       "75%     18563.000000       2.000000       5.000000       1.800000e+04   \n",
       "max     19563.000000       6.000000       5.000000       2.856000e+07   \n",
       "\n",
       "       revenue_realized  \n",
       "count     134590.000000  \n",
       "mean       12696.123256  \n",
       "std         6928.108124  \n",
       "min         2600.000000  \n",
       "25%         7600.000000  \n",
       "50%        11700.000000  \n",
       "75%        15300.000000  \n",
       "max        45220.000000  "
      ]
     },
     "execution_count": 7,
     "metadata": {},
     "output_type": "execute_result"
    }
   ],
   "source": [
    "#Cleaning:BOOKINGS TABLE\n",
    "df_bookings.describe()"
   ]
  },
  {
   "cell_type": "code",
   "execution_count": 8,
   "id": "708abe77-dc2f-4c53-b07e-63c5a3554bf4",
   "metadata": {},
   "outputs": [
    {
     "name": "stdout",
     "output_type": "stream",
     "text": [
      "               booking_id  property_id booking_date check_in_date  \\\n",
      "0        May012216558RT11        16558     27-04-22      1/5/2022   \n",
      "3        May012216558RT14        16558     28-04-22      1/5/2022   \n",
      "17924    May122218559RT44        18559    12/5/2022     12/5/2022   \n",
      "18020    May122218561RT22        18561     8/5/2022     12/5/2022   \n",
      "18119   May122218562RT311        18562     5/5/2022     12/5/2022   \n",
      "18121   May122218562RT313        18562    10/5/2022     12/5/2022   \n",
      "56715    Jun082218562RT12        18562     5/6/2022      8/6/2022   \n",
      "119765  Jul202219560RT220        19560     19-07-22      20-07-22   \n",
      "134586   Jul312217564RT47        17564     30-07-22      31-07-22   \n",
      "\n",
      "       checkout_date  no_guests room_category booking_platform  ratings_given  \\\n",
      "0           2/5/2022       -3.0           RT1    direct online            1.0   \n",
      "3           2/5/2022       -2.0           RT1           others            NaN   \n",
      "17924       14-05-22      -10.0           RT4    direct online            NaN   \n",
      "18020       14-05-22      -12.0           RT2     makeyourtrip            NaN   \n",
      "18119       17-05-22       -6.0           RT3   direct offline            5.0   \n",
      "18121       17-05-22       -4.0           RT3    direct online            NaN   \n",
      "56715       13-06-22      -17.0           RT1           others            NaN   \n",
      "119765      22-07-22       -1.0           RT2           others            NaN   \n",
      "134586      1/8/2022       -4.0           RT4          logtrip            2.0   \n",
      "\n",
      "       booking_status  revenue_generated  revenue_realized  \n",
      "0         Checked Out              10010             10010  \n",
      "3           Cancelled               9100              3640  \n",
      "17924         No Show              20900             20900  \n",
      "18020       Cancelled               9000              3600  \n",
      "18119     Checked Out              16800             16800  \n",
      "18121       Cancelled              14400              5760  \n",
      "56715     Checked Out               6500              6500  \n",
      "119765    Checked Out              13500             13500  \n",
      "134586    Checked Out              38760             38760  \n"
     ]
    }
   ],
   "source": [
    "#1..>no_guests are negative\n",
    "#There are negative entries for no_guests column which is absurd,let's check the rows where no_guests are negative:\n",
    "no_guests_neg=df_bookings[df_bookings.no_guests<0]\n",
    "print(no_guests_neg)\n",
    "#There are 9 entries,we need to get rid of that."
   ]
  },
  {
   "cell_type": "code",
   "execution_count": 18,
   "id": "55caacb0-1943-414c-9363-d1654f5053a2",
   "metadata": {},
   "outputs": [
    {
     "name": "stdout",
     "output_type": "stream",
     "text": [
      "               booking_id  property_id booking_date check_in_date  \\\n",
      "1        May012216558RT12        16558     30-04-22      1/5/2022   \n",
      "2        May012216558RT13        16558     28-04-22      1/5/2022   \n",
      "4        May012216558RT15        16558     27-04-22      1/5/2022   \n",
      "5        May012216558RT16        16558     1/5/2022      1/5/2022   \n",
      "6        May012216558RT17        16558     28-04-22      1/5/2022   \n",
      "...                   ...          ...          ...           ...   \n",
      "134584   Jul312217564RT45        17564     30-07-22      31-07-22   \n",
      "134585   Jul312217564RT46        17564     29-07-22      31-07-22   \n",
      "134587   Jul312217564RT48        17564     30-07-22      31-07-22   \n",
      "134588   Jul312217564RT49        17564     29-07-22      31-07-22   \n",
      "134589  Jul312217564RT410        17564     31-07-22      31-07-22   \n",
      "\n",
      "       checkout_date  no_guests room_category booking_platform  ratings_given  \\\n",
      "1           2/5/2022        2.0           RT1           others            NaN   \n",
      "2           4/5/2022        2.0           RT1          logtrip            5.0   \n",
      "4           2/5/2022        4.0           RT1    direct online            5.0   \n",
      "5           3/5/2022        2.0           RT1           others            4.0   \n",
      "6           6/5/2022        2.0           RT1           others            NaN   \n",
      "...              ...        ...           ...              ...            ...   \n",
      "134584      1/8/2022        2.0           RT4           others            2.0   \n",
      "134585      3/8/2022        1.0           RT4     makeyourtrip            2.0   \n",
      "134587      2/8/2022        1.0           RT4         tripster            NaN   \n",
      "134588      1/8/2022        2.0           RT4          logtrip            2.0   \n",
      "134589      1/8/2022        2.0           RT4     makeyourtrip            NaN   \n",
      "\n",
      "       booking_status  revenue_generated  revenue_realized  \n",
      "1           Cancelled               9100              3640  \n",
      "2         Checked Out            9100000              9100  \n",
      "4         Checked Out              10920             10920  \n",
      "5         Checked Out               9100              9100  \n",
      "6           Cancelled               9100              3640  \n",
      "...               ...                ...               ...  \n",
      "134584    Checked Out              32300             32300  \n",
      "134585    Checked Out              32300             32300  \n",
      "134587      Cancelled              32300             12920  \n",
      "134588    Checked Out              32300             32300  \n",
      "134589      Cancelled              32300             12920  \n",
      "\n",
      "[134578 rows x 12 columns]\n"
     ]
    }
   ],
   "source": [
    "df_bookings=df_bookings[df_bookings.no_guests>=0]\n",
    "print(df_bookings)\n",
    "#All negative values for no_guests are excluded and we have saved the filtered data in the same dataframe,df_bookings."
   ]
  },
  {
   "cell_type": "code",
   "execution_count": 23,
   "id": "0cae1154-01fa-429d-a33e-3f08df8a4165",
   "metadata": {},
   "outputs": [
    {
     "name": "stdout",
     "output_type": "stream",
     "text": [
      "28560000\n",
      "6500\n",
      "15378.036937686695 93040.1549314641\n",
      "294498.50173207896\n",
      "-263742.4278567056\n"
     ]
    }
   ],
   "source": [
    "#2..>Revenue generated value is absurd:Remove outliers.\n",
    "max_revenue=df_bookings.revenue_generated.max()\n",
    "min_revenue=df_bookings.revenue_generated.min()\n",
    "print(max_revenue)\n",
    "print(min_revenue)\n",
    "#Max_revenue value is 28560000 which is absurd, cause a single booking id cant have 28560000 amount of money.\n",
    "#Take note: If a value is > 3 standard deviation from the average,then we can consider it as an outlier.\n",
    "avg,std_dev=df_bookings.revenue_generated.mean(),df_bookings.revenue_generated.std()\n",
    "print(avg,std_dev)\n",
    "\n",
    "#3 times of standard deviation from average will be the maximuam accepted value:\n",
    "higher_limit=avg+3*std_dev\n",
    "print(higher_limit)\n",
    "\n",
    "#The lower limit will be:\n",
    "lower_limit=avg-3*std_dev\n",
    "print(lower_limit)"
   ]
  },
  {
   "cell_type": "code",
   "execution_count": 31,
   "id": "d8989a65-da7c-4a18-ac94-e8b0f309c560",
   "metadata": {},
   "outputs": [
    {
     "name": "stdout",
     "output_type": "stream",
     "text": [
      "               booking_id  property_id booking_date check_in_date  \\\n",
      "1        May012216558RT12        16558     30-04-22      1/5/2022   \n",
      "4        May012216558RT15        16558     27-04-22      1/5/2022   \n",
      "5        May012216558RT16        16558     1/5/2022      1/5/2022   \n",
      "6        May012216558RT17        16558     28-04-22      1/5/2022   \n",
      "7        May012216558RT18        16558     26-04-22      1/5/2022   \n",
      "...                   ...          ...          ...           ...   \n",
      "134584   Jul312217564RT45        17564     30-07-22      31-07-22   \n",
      "134585   Jul312217564RT46        17564     29-07-22      31-07-22   \n",
      "134587   Jul312217564RT48        17564     30-07-22      31-07-22   \n",
      "134588   Jul312217564RT49        17564     29-07-22      31-07-22   \n",
      "134589  Jul312217564RT410        17564     31-07-22      31-07-22   \n",
      "\n",
      "       checkout_date  no_guests room_category booking_platform  ratings_given  \\\n",
      "1           2/5/2022        2.0           RT1           others            NaN   \n",
      "4           2/5/2022        4.0           RT1    direct online            5.0   \n",
      "5           3/5/2022        2.0           RT1           others            4.0   \n",
      "6           6/5/2022        2.0           RT1           others            NaN   \n",
      "7           3/5/2022        2.0           RT1          logtrip            NaN   \n",
      "...              ...        ...           ...              ...            ...   \n",
      "134584      1/8/2022        2.0           RT4           others            2.0   \n",
      "134585      3/8/2022        1.0           RT4     makeyourtrip            2.0   \n",
      "134587      2/8/2022        1.0           RT4         tripster            NaN   \n",
      "134588      1/8/2022        2.0           RT4          logtrip            2.0   \n",
      "134589      1/8/2022        2.0           RT4     makeyourtrip            NaN   \n",
      "\n",
      "       booking_status  revenue_generated  revenue_realized  \n",
      "1           Cancelled               9100              3640  \n",
      "4         Checked Out              10920             10920  \n",
      "5         Checked Out               9100              9100  \n",
      "6           Cancelled               9100              3640  \n",
      "7             No Show               9100              9100  \n",
      "...               ...                ...               ...  \n",
      "134584    Checked Out              32300             32300  \n",
      "134585    Checked Out              32300             32300  \n",
      "134587      Cancelled              32300             12920  \n",
      "134588    Checked Out              32300             32300  \n",
      "134589      Cancelled              32300             12920  \n",
      "\n",
      "[134573 rows x 12 columns]\n"
     ]
    }
   ],
   "source": [
    "#Let's check out the outliers(yes,there can be more):\n",
    "\n",
    "df_bookings[df_bookings.revenue_generated>higher_limit]\n",
    "#These all are outliers, who will pay this much amount for one night?\n",
    "#Only records that are <higher_limit are valid records.\n",
    "df_bookings[df_bookings.revenue_generated<higher_limit]\n",
    "\n",
    "#to filer out the outliers,save this dataframe as df_bookings:\n",
    "df_bookings=df_bookings[df_bookings.revenue_generated<higher_limit]\n",
    "print(df_bookings)"
   ]
  },
  {
   "cell_type": "code",
   "execution_count": 37,
   "id": "b70d42b6-b16f-4a48-aa27-84d3c5103aff",
   "metadata": {},
   "outputs": [
    {
     "data": {
      "text/plain": [
       "count    134573.000000\n",
       "mean      12695.983585\n",
       "std        6927.791692\n",
       "min        2600.000000\n",
       "25%        7600.000000\n",
       "50%       11700.000000\n",
       "75%       15300.000000\n",
       "max       45220.000000\n",
       "Name: revenue_realized, dtype: float64"
      ]
     },
     "execution_count": 37,
     "metadata": {},
     "output_type": "execute_result"
    }
   ],
   "source": [
    "#3..> Revenue realized column also has absurd entries.\n",
    "#Check the column first:\n",
    "df_bookings.revenue_realized.describe()\n",
    "#max value 45220 is this a valid entry?\n"
   ]
  },
  {
   "cell_type": "code",
   "execution_count": 38,
   "id": "b3a00426-6e03-4127-a422-96e4e3db0e4a",
   "metadata": {},
   "outputs": [
    {
     "name": "stdout",
     "output_type": "stream",
     "text": [
      "33479.358661845814\n"
     ]
    }
   ],
   "source": [
    "#Lets check whether it's an outlier or no, following the same standard deviation method to find outliers.\n",
    "higher_limit=df_bookings.revenue_realized.mean()+3*df_bookings.revenue_realized.std()\n",
    "print(higher_limit)  #it is less than  45220"
   ]
  },
  {
   "cell_type": "code",
   "execution_count": 46,
   "id": "10e6aef2-5bff-4fa8-8e9c-93c2b92cfd25",
   "metadata": {},
   "outputs": [
    {
     "name": "stdout",
     "output_type": "stream",
     "text": [
      "               booking_id  property_id booking_date check_in_date  \\\n",
      "137      May012216559RT41        16559     27-04-22      1/5/2022   \n",
      "139      May012216559RT43        16559     1/5/2022      1/5/2022   \n",
      "143      May012216559RT47        16559     28-04-22      1/5/2022   \n",
      "149     May012216559RT413        16559     24-04-22      1/5/2022   \n",
      "222      May012216560RT45        16560     30-04-22      1/5/2022   \n",
      "...                   ...          ...          ...           ...   \n",
      "134328   Jul312219560RT49        19560     31-07-22      31-07-22   \n",
      "134331  Jul312219560RT412        19560     31-07-22      31-07-22   \n",
      "134467   Jul312219562RT45        19562     28-07-22      31-07-22   \n",
      "134474  Jul312219562RT412        19562     25-07-22      31-07-22   \n",
      "134581   Jul312217564RT42        17564     31-07-22      31-07-22   \n",
      "\n",
      "       checkout_date  no_guests room_category booking_platform  ratings_given  \\\n",
      "137         7/5/2022        4.0           RT4           others            NaN   \n",
      "139         2/5/2022        6.0           RT4         tripster            3.0   \n",
      "143         3/5/2022        3.0           RT4           others            5.0   \n",
      "149         7/5/2022        5.0           RT4          logtrip            NaN   \n",
      "222         3/5/2022        5.0           RT4           others            3.0   \n",
      "...              ...        ...           ...              ...            ...   \n",
      "134328      2/8/2022        6.0           RT4    direct online            5.0   \n",
      "134331      1/8/2022        6.0           RT4           others            2.0   \n",
      "134467      1/8/2022        6.0           RT4     makeyourtrip            4.0   \n",
      "134474      6/8/2022        5.0           RT4   direct offline            5.0   \n",
      "134581      1/8/2022        4.0           RT4     makeyourtrip            4.0   \n",
      "\n",
      "       booking_status  revenue_generated  revenue_realized  \n",
      "137       Checked Out              38760             38760  \n",
      "139       Checked Out              45220             45220  \n",
      "143       Checked Out              35530             35530  \n",
      "149       Checked Out              41990             41990  \n",
      "222       Checked Out              34580             34580  \n",
      "...               ...                ...               ...  \n",
      "134328    Checked Out              39900             39900  \n",
      "134331    Checked Out              39900             39900  \n",
      "134467    Checked Out              39900             39900  \n",
      "134474    Checked Out              37050             37050  \n",
      "134581    Checked Out              38760             38760  \n",
      "\n",
      "[1299 rows x 12 columns]\n"
     ]
    },
    {
     "data": {
      "text/plain": [
       "count    16071.000000\n",
       "mean     23439.308444\n",
       "std       9048.599076\n",
       "min       7600.000000\n",
       "25%      19000.000000\n",
       "50%      26600.000000\n",
       "75%      32300.000000\n",
       "max      45220.000000\n",
       "Name: revenue_realized, dtype: float64"
      ]
     },
     "execution_count": 46,
     "metadata": {},
     "output_type": "execute_result"
    }
   ],
   "source": [
    "#But in 2023,an amount of 42220 might not  an outlier even if it exceeds 3 standard deviation rule,there can be luxurious hotels that charge\n",
    "#..this much amount.\n",
    "#Lets see how many such entries we have,\n",
    "print(df_bookings[df_bookings.revenue_realized>higher_limit])\n",
    "#We can see there are so many records that exceeds the higher limit,1299 rows,but all of them are from RT4 room_category,which is expensive.\n",
    "#if we check the room_types:\n",
    "df_rooms #--RT4 is a Presidential room type, which is very very expensive.\n",
    "#Now,to specifically find outliers on  RT4 type rooms,we can first describe the RT4 type to see its mean and standard deviation values,\n",
    "df_bookings[df_bookings.room_category==\"RT4\"].revenue_realized.describe()"
   ]
  },
  {
   "cell_type": "code",
   "execution_count": 49,
   "id": "aed50a4e-62b9-42b9-ae82-74f94aa72918",
   "metadata": {},
   "outputs": [
    {
     "data": {
      "text/plain": [
       "50585"
      ]
     },
     "execution_count": 49,
     "metadata": {},
     "output_type": "execute_result"
    }
   ],
   "source": [
    "#As we can see,for RT4 room category,the mean is  23439.308444,and standard deviation will be  9048.599076,so,for RT4 the outlier will be:\n",
    "23439.308444+3*9048.599076 \n",
    "#which is: 50585.105672000005\n",
    "#By rouding off,\n",
    "round(50585.105672000005)\n",
    "#The max rent for RT4 type is 45000 which is less than outliers,means,all okay."
   ]
  },
  {
   "cell_type": "code",
   "execution_count": 51,
   "id": "ef405877-b92f-4c65-a615-82bee503223c",
   "metadata": {},
   "outputs": [
    {
     "data": {
      "text/plain": [
       "booking_id               0\n",
       "property_id              0\n",
       "booking_date             0\n",
       "check_in_date            0\n",
       "checkout_date            0\n",
       "no_guests                0\n",
       "room_category            0\n",
       "booking_platform         0\n",
       "ratings_given        77897\n",
       "booking_status           0\n",
       "revenue_generated        0\n",
       "revenue_realized         0\n",
       "dtype: int64"
      ]
     },
     "execution_count": 51,
     "metadata": {},
     "output_type": "execute_result"
    }
   ],
   "source": [
    "#4..>Checking NA Values.\n",
    "df_bookings.isnull().sum()\n",
    "#The ratings_given column has 77897 null values.\n",
    "#Because people not always give ratings,which is natural,we don't need to handle these NA values."
   ]
  }
 ],
 "metadata": {
  "kernelspec": {
   "display_name": "Python 3 (ipykernel)",
   "language": "python",
   "name": "python3"
  },
  "language_info": {
   "codemirror_mode": {
    "name": "ipython",
    "version": 3
   },
   "file_extension": ".py",
   "mimetype": "text/x-python",
   "name": "python",
   "nbconvert_exporter": "python",
   "pygments_lexer": "ipython3",
   "version": "3.8.10"
  }
 },
 "nbformat": 4,
 "nbformat_minor": 5
}
